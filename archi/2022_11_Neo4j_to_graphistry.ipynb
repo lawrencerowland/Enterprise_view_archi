{
 "cells": [
  {
   "cell_type": "code",
   "execution_count": 1,
   "id": "f40b72e5-13c9-42c8-b158-9637412604b2",
   "metadata": {},
   "outputs": [],
   "source": [
    "import graphistry"
   ]
  },
  {
   "cell_type": "code",
   "execution_count": 3,
   "id": "f94f4af2-46b8-443b-a6d3-91e382d6ad38",
   "metadata": {},
   "outputs": [],
   "source": [
    "graphistry.register(api=3, username='', password='')# waspish and a meek one at that 12 \" full name"
   ]
  },
  {
   "cell_type": "code",
   "execution_count": 7,
   "id": "24e4ac7b-3dde-42be-967d-a2b479b76196",
   "metadata": {},
   "outputs": [
    {
     "data": {
      "text/html": [
       "\n",
       "            <iframe id=\"89abe4d7-14e1-46d4-a184-5a07436516d8\" src=\"https://hub.graphistry.com/graph/graph.html?dataset=12a67ad66a5546bdb5dc94c3b66aa0cd&type=arrow&viztoken=81507a15-852e-4f35-b5f5-9fdc80c1333b&usertag=fa74be17-pygraphistry-0.28.5&splashAfter=1668729050&info=true\"\n",
       "                    allowfullscreen=\"true\" webkitallowfullscreen=\"true\" mozallowfullscreen=\"true\"\n",
       "                    oallowfullscreen=\"true\" msallowfullscreen=\"true\"\n",
       "                    style=\"width:100%; height:500px; border: 1px solid #DDD; overflow: hidden\"\n",
       "                    \n",
       "            >\n",
       "            </iframe>\n",
       "        \n",
       "            <script>\n",
       "                try {\n",
       "                  $(\"#89abe4d7-14e1-46d4-a184-5a07436516d8\").bind('mousewheel', function(e) { e.preventDefault(); });\n",
       "                } catch (e) { console.error('exn catching scroll', e); }\n",
       "            </script>\n",
       "        "
      ],
      "text/plain": [
       "<IPython.core.display.HTML object>"
      ]
     },
     "execution_count": 7,
     "metadata": {},
     "output_type": "execute_result"
    }
   ],
   "source": [
    "NEO4J_CREDS = {'uri': 'bolt://localhost:7687', 'auth': ('neo4j', 'Graph')}\n",
    "graphistry.register(bolt=NEO4J_CREDS)\n",
    "g=graphistry.cypher(\"MATCH (n1)-[r1]->(n2) RETURN n1, r1, n2 LIMIT 1000\")\n",
    "g.plot()"
   ]
  },
  {
   "cell_type": "code",
   "execution_count": 9,
   "id": "71e1fe13-245e-4ae8-a14b-7e5077b94450",
   "metadata": {},
   "outputs": [],
   "source": [
    "public_url = g.plot(render=False)"
   ]
  },
  {
   "cell_type": "markdown",
   "id": "d6dea837-ebe5-404e-9cb5-1ca7036dc99b",
   "metadata": {},
   "source": [
    "https://hub.graphistry.com/graph/graph.html?dataset=0c0253ab5cba497aa8e86b05cd7889a0&play=5000&splashAfter=false&session=5a3c93819e3c4b398592464b6ed41d5e"
   ]
  },
  {
   "cell_type": "code",
   "execution_count": null,
   "id": "5e72a22a-9994-4d94-b753-3ab2e678ccb9",
   "metadata": {},
   "outputs": [],
   "source": []
  }
 ],
 "metadata": {
  "kernelspec": {
   "display_name": "Python 3 (ipykernel)",
   "language": "python",
   "name": "python3"
  },
  "language_info": {
   "codemirror_mode": {
    "name": "ipython",
    "version": 3
   },
   "file_extension": ".py",
   "mimetype": "text/x-python",
   "name": "python",
   "nbconvert_exporter": "python",
   "pygments_lexer": "ipython3",
   "version": "3.10.8"
  }
 },
 "nbformat": 4,
 "nbformat_minor": 5
}
